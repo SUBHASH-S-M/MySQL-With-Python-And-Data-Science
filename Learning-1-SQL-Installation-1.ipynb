{
 "cells": [
  {
   "cell_type": "markdown",
   "metadata": {},
   "source": [
    "# SQl instalation "
   ]
  },
  {
   "cell_type": "markdown",
   "metadata": {},
   "source": [
    "### To install a standalone version click this -484 mb(recommended)\n",
    "https://cdn.mysql.com//Downloads/MySQLInstaller/mysql-installer-community-8.0.21.0.msi"
   ]
  },
  {
   "cell_type": "markdown",
   "metadata": {},
   "source": [
    "### To install from your pc a small exe file around 48 mb\n",
    "https://cdn.mysql.com//Downloads/MySQLInstaller/mysql-installer-web-community-8.0.21.0.msi"
   ]
  },
  {
   "cell_type": "markdown",
   "metadata": {},
   "source": [
    "# Evergreen Link for SQl download\n",
    "https://dev.mysql.com/downloads/file/?id=497105"
   ]
  },
  {
   "cell_type": "markdown",
   "metadata": {},
   "source": [
    "# Some recommend options while installing\n",
    "1)cpy the prot details while installation\n",
    "2)use legacy authentication method while installation"
   ]
  },
  {
   "cell_type": "code",
   "execution_count": null,
   "metadata": {},
   "outputs": [],
   "source": []
  }
 ],
 "metadata": {
  "kernelspec": {
   "display_name": "Python 3",
   "language": "python",
   "name": "python3"
  },
  "language_info": {
   "codemirror_mode": {
    "name": "ipython",
    "version": 3
   },
   "file_extension": ".py",
   "mimetype": "text/x-python",
   "name": "python",
   "nbconvert_exporter": "python",
   "pygments_lexer": "ipython3",
   "version": "3.7.6"
  }
 },
 "nbformat": 4,
 "nbformat_minor": 4
}
